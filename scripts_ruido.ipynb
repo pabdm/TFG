{
 "cells": [
  {
   "cell_type": "markdown",
   "metadata": {},
   "source": [
    "***#### Añadir ruido a los datos de un archivo pkl V1***"
   ]
  },
  {
   "cell_type": "code",
   "execution_count": null,
   "metadata": {},
   "outputs": [],
   "source": [
    "import numpy as np\n",
    "import pickle\n",
    "\n",
    "# Nombre del archivo pkl\n",
    "archivo_pkl = './C2 - Run_pkl_version_synthetic.pkl'\n",
    "\n",
    "# Cargar el archivo pkl\n",
    "with open(archivo_pkl, 'rb') as file:\n",
    "    data = pickle.load(file)\n",
    "\n",
    "# Añadir ruido a los datos de aceleración\n",
    "noise_constant_acc = 10.5\n",
    "noise_variance_acc = 3.5\n",
    "\n",
    "noise_constant_ori = 0.025\n",
    "noise_variance_ori = 0.005\n",
    "\n",
    "# Iterar sobre cada array dentro de la lista 'acc'\n",
    "for i in range(len(data['acc'])):\n",
    "    data['acc'][i] += np.random.normal(loc=noise_constant_acc, scale=noise_variance_acc, size=data['acc'][i].shape)\n",
    "\n",
    "# Añadir ruido a los datos de orientación\n",
    "for i in range(len(data['ori'])):\n",
    "    data['ori'][i] += np.random.normal(loc=noise_constant_ori, scale=noise_variance_ori, size=data['ori'][i].shape)\n",
    "\n",
    "# Guardar los datos actualizados en un nuevo archivo pkl con el mismo nombre\n",
    "archivo_modificado = archivo_pkl.replace('.pkl', '_modificado_2.pkl')\n",
    "\n",
    "with open(archivo_modificado, 'wb') as file:\n",
    "    pickle.dump(data, file)\n",
    "\n"
   ]
  },
  {
   "cell_type": "markdown",
   "metadata": {},
   "source": [
    "***#### Añadir ruido BIDRECCIONAL a los datos de un archivo pkl V2***"
   ]
  },
  {
   "cell_type": "code",
   "execution_count": 1,
   "metadata": {},
   "outputs": [],
   "source": [
    "import numpy as np\n",
    "import pickle\n",
    "\n",
    "# Nombre del archivo pkl\n",
    "archivo_pkl = './Walking_3_poses_pkl_version_synthetic_omegas.pkl'\n",
    "\n",
    "# Cargar el archivo pkl\n",
    "with open(archivo_pkl, 'rb') as file:\n",
    "    data = pickle.load(file)\n",
    "\n",
    "# Añadir ruido a los datos de aceleración\n",
    "noise_constant_acc = 0.7\n",
    "noise_std_acc = 0.2  # Desviación estándar, la mitad de la variabilidad\n",
    "\n",
    "# Añadir ruido a los datos de orientación\n",
    "noise_constant_ori = 0.075\n",
    "noise_std_ori = 0.03  # Desviación estándar, la mitad de la variabilidad\n",
    "\n",
    "# Iterar sobre cada array dentro de la lista 'acc'\n",
    "for i in range(len(data['acc'])):\n",
    "    # Generar ruido bidireccional (positivo y negativo)\n",
    "    noise_acc = np.random.normal(loc=0, scale=noise_std_acc, size=data['acc'][i].shape)\n",
    "    random_sign_acc = np.random.choice([-1, 1], size=data['acc'][i].shape)\n",
    "    data['acc'][i] += noise_constant_acc * random_sign_acc + noise_acc\n",
    "\n",
    "# Iterar sobre cada array dentro de la lista 'ori'\n",
    "for i in range(len(data['ori'])):\n",
    "    # Generar ruido bidireccional (positivo y negativo)\n",
    "    noise_ori = np.random.normal(loc=0, scale=noise_std_ori, size=data['ori'][i].shape)\n",
    "    random_sign_ori = np.random.choice([-1, 1], size=data['ori'][i].shape)\n",
    "    data['ori'][i] += noise_constant_ori * random_sign_ori + noise_ori\n",
    "\n",
    "# Guardar los datos actualizados en un nuevo archivo pkl con el mismo nombre\n",
    "archivo_modificado = archivo_pkl.replace('.pkl', '_mucho_ruido.pkl')\n",
    "\n",
    "with open(archivo_modificado, 'wb') as file:\n",
    "    pickle.dump(data, file)\n"
   ]
  },
  {
   "cell_type": "markdown",
   "metadata": {},
   "source": [
    "***##### Añadir ruido BIDIRECCIONAL a los datos de un archivo pkl V3 para todas carpeta***"
   ]
  },
  {
   "cell_type": "code",
   "execution_count": 3,
   "metadata": {},
   "outputs": [
    {
     "name": "stdout",
     "output_type": "stream",
     "text": [
      "Proceso completado.\n"
     ]
    }
   ],
   "source": [
    "import os\n",
    "import numpy as np\n",
    "import pickle\n",
    "\n",
    "# Carpeta general con archivos originales\n",
    "carpeta_general_original = './Carpeta general'\n",
    "\n",
    "# Carpeta general para guardar archivos con ruido\n",
    "carpeta_general_con_ruido = './Carpeta general con ruido'\n",
    "\n",
    "# Obtener la lista de carpetas dentro de la carpeta general original\n",
    "carpetas_originales = [f.path for f in os.scandir(carpeta_general_original) if f.is_dir()]\n",
    "\n",
    "# Iterar sobre cada carpeta dentro de la carpeta general original\n",
    "for carpeta_original in carpetas_originales:\n",
    "    # Obtener la lista de archivos dentro de la carpeta actual\n",
    "    archivos_en_carpeta = [f.path for f in os.scandir(carpeta_original) if f.is_file()]\n",
    "\n",
    "    # Crear la carpeta correspondiente en la carpeta general con ruido\n",
    "    carpeta_con_ruido = carpeta_original.replace(carpeta_general_original, carpeta_general_con_ruido)\n",
    "    os.makedirs(carpeta_con_ruido, exist_ok=True)\n",
    "\n",
    "    # Iterar sobre cada archivo dentro de la carpeta actual\n",
    "    for archivo_original in archivos_en_carpeta:\n",
    "        # Cargar el archivo original\n",
    "        with open(archivo_original, 'rb') as file:\n",
    "            data = pickle.load(file)\n",
    "\n",
    "        # Añadir ruido a los datos de aceleración\n",
    "        noise_constant_acc = 10.5\n",
    "        noise_std_acc = 2.0\n",
    "\n",
    "        # Iterar sobre cada array dentro de la lista 'acc'\n",
    "        for i in range(len(data['acc'])):\n",
    "            # Generar ruido bidireccional (positivo y negativo)\n",
    "            noise_acc = np.random.normal(loc=0, scale=noise_std_acc, size=data['acc'][i].shape)\n",
    "            random_sign_acc = np.random.choice([-1, 1], size=data['acc'][i].shape)\n",
    "            data['acc'][i] += noise_constant_acc * random_sign_acc + noise_acc\n",
    "\n",
    "        # Añadir ruido a los datos de orientación\n",
    "        noise_constant_ori = 0.025\n",
    "        noise_std_ori = 0.01\n",
    "\n",
    "        # Iterar sobre cada array dentro de la lista 'ori'\n",
    "        for i in range(len(data['ori'])):\n",
    "            # Generar ruido bidireccional (positivo y negativo)\n",
    "            noise_ori = np.random.normal(loc=0, scale=noise_std_ori, size=data['ori'][i].shape)\n",
    "            random_sign_ori = np.random.choice([-1, 1], size=data['ori'][i].shape)\n",
    "            data['ori'][i] += noise_constant_ori * random_sign_ori + noise_ori\n",
    "\n",
    "        # Crear la carpeta correspondiente para guardar el archivo con ruido\n",
    "        nombre_archivo = os.path.basename(archivo_original)\n",
    "        archivo_con_ruido = os.path.join(carpeta_con_ruido, nombre_archivo.replace('.pkl', '_con_ruido.pkl'))\n",
    "\n",
    "        # Guardar los datos actualizados en el nuevo archivo pkl\n",
    "        with open(archivo_con_ruido, 'wb') as file:\n",
    "            pickle.dump(data, file)\n",
    "\n",
    "print(\"Proceso completado.\")\n"
   ]
  }
 ],
 "metadata": {
  "kernelspec": {
   "display_name": "Python 3",
   "language": "python",
   "name": "python3"
  },
  "language_info": {
   "codemirror_mode": {
    "name": "ipython",
    "version": 3
   },
   "file_extension": ".py",
   "mimetype": "text/x-python",
   "name": "python",
   "nbconvert_exporter": "python",
   "pygments_lexer": "ipython3",
   "version": "3.9.2"
  }
 },
 "nbformat": 4,
 "nbformat_minor": 2
}
